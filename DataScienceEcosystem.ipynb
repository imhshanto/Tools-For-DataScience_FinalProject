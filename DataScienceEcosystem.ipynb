{
 "cells": [
  {
   "cell_type": "markdown",
   "id": "03d6a31b",
   "metadata": {},
   "source": [
    "# Data Science Tools and Ecosystem"
   ]
  },
  {
   "cell_type": "markdown",
   "id": "2628a55a",
   "metadata": {},
   "source": [
    "In this notebook, Data Science Tools and Ecosystem are summarized."
   ]
  },
  {
   "cell_type": "markdown",
   "id": "50b6fe48",
   "metadata": {},
   "source": [
    "**Objectives:**\n",
    "\n",
    "- Add comments to code cells\n",
    "- Create markdown cells\n",
    "- Add ordered and unordered list to markdown cells\n",
    "- Fomat content of markdown cells with heading styles\n",
    "\n"
   ]
  },
  {
   "cell_type": "markdown",
   "id": "3520916f",
   "metadata": {},
   "source": [
    "Some of the popular languages that Data Scientists use are:\n",
    "\n",
    "1. Python\n",
    "\n",
    "2. R\n",
    "\n",
    "3. SQL\n",
    "\n",
    "4. Scala\n",
    "\n",
    "5. Java\n",
    "\n",
    "6. C++\n",
    "\n",
    "7. Julia\n",
    "\n",
    "8. JavaScript\n",
    "\n",
    "9. PHP\n",
    "\n",
    "10. Go\n",
    "\n",
    "11. Ruby\n",
    "\n",
    "12. Visual Basic\n"
   ]
  },
  {
   "cell_type": "markdown",
   "id": "b05056f1",
   "metadata": {},
   "source": [
    "Some of the commonly used libraries by Data Scientists include:\n",
    "\n",
    "1. Pandas\n",
    "\n",
    "2. Numpy\n",
    "\n",
    "3. Matplotlib\n",
    "\n",
    "4. Seaborn\n",
    "\n",
    "5. Scikit-learn\n",
    "\n",
    "6. Keras\n",
    "\n",
    "7. TensorFlow\n",
    "\n",
    "8. PyTorch\n",
    "\n",
    "9. Apache Spark\n",
    "\n",
    "10. Vegas\n",
    "\n",
    "11. Big DL\n",
    "\n",
    "12. Ggplot2\n"
   ]
  },
  {
   "cell_type": "markdown",
   "id": "c1f9e30c",
   "metadata": {},
   "source": [
    "| Data Science Tools |\n",
    "| ------------------ |\n",
    "| Jupyter Notebook   |\n",
    "| RStudio            |\n",
    "| VS Code            |\n"
   ]
  },
  {
   "cell_type": "markdown",
   "id": "18788ed2",
   "metadata": {},
   "source": [
    "### Below are a few examples of evaluating arithmetic expressions in Python"
   ]
  },
  {
   "cell_type": "code",
   "execution_count": 5,
   "id": "aa550709",
   "metadata": {},
   "outputs": [
    {
     "name": "stdout",
     "output_type": "stream",
     "text": [
      "17\n"
     ]
    }
   ],
   "source": [
    "# This is a simple arithmetic expression to multiply and then add integers.\n",
    "\n",
    "result = (3 * 4 + 5)\n",
    "\n",
    "print(result)\n"
   ]
  },
  {
   "cell_type": "code",
   "execution_count": 2,
   "id": "d289bbbd",
   "metadata": {},
   "outputs": [
    {
     "data": {
      "text/plain": [
       "3"
      ]
     },
     "execution_count": 2,
     "metadata": {},
     "output_type": "execute_result"
    }
   ],
   "source": [
    "# This will convert 200 minutes to hours by dividing by 60.\n",
    "200 // 60\n",
    "\n"
   ]
  },
  {
   "cell_type": "markdown",
   "id": "4d1bd131",
   "metadata": {},
   "source": [
    "## Author\n",
    "Md Hasibul Islam Shanto"
   ]
  },
  {
   "cell_type": "code",
   "execution_count": null,
   "id": "cc7e2c02",
   "metadata": {},
   "outputs": [],
   "source": []
  }
 ],
 "metadata": {
  "kernelspec": {
   "display_name": "Python 3 (ipykernel)",
   "language": "python",
   "name": "python3"
  },
  "language_info": {
   "codemirror_mode": {
    "name": "ipython",
    "version": 3
   },
   "file_extension": ".py",
   "mimetype": "text/x-python",
   "name": "python",
   "nbconvert_exporter": "python",
   "pygments_lexer": "ipython3",
   "version": "3.11.5"
  }
 },
 "nbformat": 4,
 "nbformat_minor": 5
}
